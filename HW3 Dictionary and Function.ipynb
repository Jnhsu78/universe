{
 "cells": [
  {
   "cell_type": "code",
   "execution_count": 2,
   "metadata": {},
   "outputs": [],
   "source": [
    "marks = {\"Andy\":88, \"Amy\":66, \"James\": 90, \"Jules\": 55, \"Arthur\": 77}"
   ]
  },
  {
   "cell_type": "code",
   "execution_count": 3,
   "metadata": {},
   "outputs": [
    {
     "name": "stdout",
     "output_type": "stream",
     "text": [
      "Andy 88\n",
      "Amy 66\n",
      "James 90\n",
      "Jules 55\n",
      "Arthur 77\n"
     ]
    }
   ],
   "source": [
    "for names, grades in marks.items():\n",
    "    print(names, grades)"
   ]
  },
  {
   "cell_type": "code",
   "execution_count": 20,
   "metadata": {},
   "outputs": [
    {
     "name": "stdout",
     "output_type": "stream",
     "text": [
      "mean is 75.2\n",
      "max is 90\n",
      "min is 55\n"
     ]
    }
   ],
   "source": [
    "total = 0\n",
    "count = []\n",
    "for grades in marks.values():\n",
    "    total += grades\n",
    "    count += [grades]\n",
    "print(\"mean grade is\",total/len(count))  \n",
    "print(\"maximal grade is\",max(count))  \n",
    "print(\"minimal grade is\",min(count))  "
   ]
  },
  {
   "cell_type": "code",
   "execution_count": 21,
   "metadata": {},
   "outputs": [
    {
     "name": "stdout",
     "output_type": "stream",
     "text": [
      "Andy\n",
      "Amy\n"
     ]
    }
   ],
   "source": [
    "for i in marks.keys():\n",
    "    if \"J\" in i:\n",
    "        break\n",
    "    print(i)"
   ]
  },
  {
   "cell_type": "code",
   "execution_count": 22,
   "metadata": {},
   "outputs": [
    {
     "name": "stdout",
     "output_type": "stream",
     "text": [
      "Andy\n",
      "Amy\n",
      "Arthur\n"
     ]
    }
   ],
   "source": [
    "for i in marks.keys():\n",
    "    if \"J\" in i:\n",
    "        continue\n",
    "    print(i)"
   ]
  },
  {
   "cell_type": "code",
   "execution_count": 38,
   "metadata": {},
   "outputs": [
    {
     "data": {
      "text/plain": [
       "66"
      ]
     },
     "execution_count": 38,
     "metadata": {},
     "output_type": "execute_result"
    }
   ],
   "source": [
    "def find_grade(name):\n",
    "    for names,grades in marks.items():\n",
    "        if name == names:\n",
    "            return grades \n",
    "    else:\n",
    "        print(\"Cannot find the student's name\")\n",
    "\n",
    "find_grade(\"Amy\")           "
   ]
  },
  {
   "cell_type": "code",
   "execution_count": 56,
   "metadata": {},
   "outputs": [
    {
     "name": "stdout",
     "output_type": "stream",
     "text": [
      "0 1\n",
      "1 8\n",
      "2 64\n",
      "3 512\n",
      "4 4096\n",
      "5 32768\n",
      "6 262144\n",
      "7 2097152\n",
      "8 16777216\n",
      "greater than 8\n"
     ]
    }
   ],
   "source": [
    "def less_than(num):\n",
    "    n = 0\n",
    "    while n <= num:\n",
    "        print(n, num ** n)\n",
    "        n += 1\n",
    "    else:\n",
    "        print(\"greater than\", num)\n",
    "\n",
    "less_than(8)"
   ]
  },
  {
   "cell_type": "code",
   "execution_count": 51,
   "metadata": {},
   "outputs": [
    {
     "data": {
      "text/plain": [
       "55"
      ]
     },
     "execution_count": 51,
     "metadata": {},
     "output_type": "execute_result"
    }
   ],
   "source": [
    "def sumfunction(num):\n",
    "    n = 1\n",
    "    sum = 0\n",
    "    while n <= num:\n",
    "        sum += n\n",
    "        n += 1\n",
    "    return sum\n",
    "\n",
    "sumfunction(10)       "
   ]
  },
  {
   "cell_type": "code",
   "execution_count": 55,
   "metadata": {},
   "outputs": [
    {
     "name": "stdout",
     "output_type": "stream",
     "text": [
      "0\n",
      "1\n",
      "3\n",
      "6\n",
      "10\n",
      "15\n",
      "21\n",
      "28\n",
      "36\n",
      "45\n",
      "55\n"
     ]
    }
   ],
   "source": [
    "def range_sum(num):\n",
    "    sum = 0\n",
    "    for n in range(num+1):\n",
    "        sum += n\n",
    "        print(sum)\n",
    "\n",
    "range_sum(10)   "
   ]
  },
  {
   "cell_type": "code",
   "execution_count": 66,
   "metadata": {},
   "outputs": [
    {
     "data": {
      "text/plain": [
       "4"
      ]
     },
     "execution_count": 66,
     "metadata": {},
     "output_type": "execute_result"
    }
   ],
   "source": [
    "def minimum(v1,v2,v3,v4):\n",
    "    min_value = v1\n",
    "    if v2 < min_value:\n",
    "        min_value = v2\n",
    "    if v3 < min_value:\n",
    "        min_value = v3\n",
    "    if v4 < min_value:\n",
    "        min_value = v4\n",
    "    return min_value\n",
    "\n",
    "minimum(4,20,78,9)"
   ]
  },
  {
   "cell_type": "code",
   "execution_count": null,
   "metadata": {},
   "outputs": [],
   "source": []
  }
 ],
 "metadata": {
  "kernelspec": {
   "display_name": "Python 3",
   "language": "python",
   "name": "python3"
  },
  "language_info": {
   "codemirror_mode": {
    "name": "ipython",
    "version": 3
   },
   "file_extension": ".py",
   "mimetype": "text/x-python",
   "name": "python",
   "nbconvert_exporter": "python",
   "pygments_lexer": "ipython3",
   "version": "3.8.5"
  }
 },
 "nbformat": 4,
 "nbformat_minor": 4
}
