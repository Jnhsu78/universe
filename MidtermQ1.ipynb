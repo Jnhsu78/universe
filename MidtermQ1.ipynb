{
 "cells": [
  {
   "cell_type": "code",
   "execution_count": 3,
   "metadata": {},
   "outputs": [
    {
     "name": "stdout",
     "output_type": "stream",
     "text": [
      "{0: 2, 1: 3, 2: 4, 3: 5, 4: 5, 5: 2, 6: 6, 7: 4, 8: 3, 9: 5, 10: 3}\n"
     ]
    }
   ],
   "source": [
    "a = [2,4,6,8,4,5,2,1,9,0,4,6,7,4,3,2,1,9,10,3,7,9,6,0,1,3,5,6,7,8,9,10,2,3,6,8,9,10,6,7,4,3]\n",
    "dict = {}\n",
    "for num in sorted(a):\n",
    "    if num in dict:\n",
    "        dict[num] = dict.get(num)+1\n",
    "    else:\n",
    "        dict[num] = 1\n",
    "frequency = {k : v for k,v in dict.items()}\n",
    "print(frequency)"
   ]
  },
  {
   "cell_type": "code",
   "execution_count": 4,
   "metadata": {},
   "outputs": [
    {
     "data": {
      "image/png": "[encoded data removed]",
      "text/plain": [
       "<Figure size 432x288 with 1 Axes>"
      ]
     },
     "metadata": {
      "needs_background": "light"
     },
     "output_type": "display_data"
    }
   ],
   "source": [
    "import matplotlib.pyplot as plt\n",
    "import numpy as np\n",
    "\n",
    "number = list(dict.keys())\n",
    "freq = list(dict.values())\n",
    "x = np.array(number)\n",
    "y = np.array(freq)\n",
    "\n",
    "plt.bar(x,y)\n",
    "plt.xlabel(\"Numbers\")\n",
    "plt.ylabel(\"Frequency\")\n",
    "plt.show()"
   ]
  },
  {
   "cell_type": "code",
   "execution_count": 7,
   "metadata": {},
   "outputs": [
    {
     "data": {
      "text/plain": [
       "'{\"0\": 2, \"1\": 3, \"2\": 4, \"3\": 5, \"4\": 5, \"5\": 2, \"6\": 6, \"7\": 4, \"8\": 3, \"9\": 5, \"10\": 3}'"
      ]
     },
     "execution_count": 7,
     "metadata": {},
     "output_type": "execute_result"
    }
   ],
   "source": [
    "import json\n",
    "\n",
    "with open(\"freq_js.json\",\"w\") as outfile:\n",
    "    json.dump(frequency,outfile)\n",
    "    \n",
    "f = open(\"freq_js.json\",\"r\")\n",
    "f.read()"
   ]
  },
  {
   "cell_type": "code",
   "execution_count": null,
   "metadata": {},
   "outputs": [],
   "source": []
  }
 ],
 "metadata": {
  "kernelspec": {
   "display_name": "Python 3",
   "language": "python",
   "name": "python3"
  },
  "language_info": {
   "codemirror_mode": {
    "name": "ipython",
    "version": 3
   },
   "file_extension": ".py",
   "mimetype": "text/x-python",
   "name": "python",
   "nbconvert_exporter": "python",
   "pygments_lexer": "ipython3",
   "version": "3.8.5"
  }
 },
 "nbformat": 4,
 "nbformat_minor": 4
}
