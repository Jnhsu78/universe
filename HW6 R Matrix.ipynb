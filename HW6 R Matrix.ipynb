{
 "cells": [
  {
   "cell_type": "code",
   "execution_count": 94,
   "metadata": {},
   "outputs": [
    {
     "data": {
      "text/html": [
       "<table>\n",
       "<tbody>\n",
       "\t<tr><td>7 </td><td>9 </td><td>12</td></tr>\n",
       "\t<tr><td>2 </td><td>4 </td><td>13</td></tr>\n",
       "</tbody>\n",
       "</table>\n"
      ],
      "text/latex": [
       "\\begin{tabular}{lll}\n",
       "\t 7  & 9  & 12\\\\\n",
       "\t 2  & 4  & 13\\\\\n",
       "\\end{tabular}\n"
      ],
      "text/markdown": [
       "\n",
       "| 7  | 9  | 12 |\n",
       "| 2  | 4  | 13 |\n",
       "\n"
      ],
      "text/plain": [
       "     [,1] [,2] [,3]\n",
       "[1,] 7    9    12  \n",
       "[2,] 2    4    13  "
      ]
     },
     "metadata": {},
     "output_type": "display_data"
    },
    {
     "data": {
      "text/html": [
       "<table>\n",
       "<tbody>\n",
       "\t<tr><td>1 </td><td>7 </td><td>12</td><td>19</td></tr>\n",
       "\t<tr><td>2 </td><td>8 </td><td>13</td><td>20</td></tr>\n",
       "\t<tr><td>3 </td><td>9 </td><td>14</td><td>21</td></tr>\n",
       "</tbody>\n",
       "</table>\n"
      ],
      "text/latex": [
       "\\begin{tabular}{llll}\n",
       "\t 1  & 7  & 12 & 19\\\\\n",
       "\t 2  & 8  & 13 & 20\\\\\n",
       "\t 3  & 9  & 14 & 21\\\\\n",
       "\\end{tabular}\n"
      ],
      "text/markdown": [
       "\n",
       "| 1  | 7  | 12 | 19 |\n",
       "| 2  | 8  | 13 | 20 |\n",
       "| 3  | 9  | 14 | 21 |\n",
       "\n"
      ],
      "text/plain": [
       "     [,1] [,2] [,3] [,4]\n",
       "[1,] 1    7    12   19  \n",
       "[2,] 2    8    13   20  \n",
       "[3,] 3    9    14   21  "
      ]
     },
     "metadata": {},
     "output_type": "display_data"
    },
    {
     "name": "stdout",
     "output_type": "stream",
     "text": [
      "     [,1] [,2] [,3] [,4]\n",
      "[1,]   61  229  369  565\n",
      "[2,]   49  163  258  391\n"
     ]
    }
   ],
   "source": [
    "# Create matrix1\n",
    "matrix1 <- matrix(c(7,2,9,4,12,13), nrow = 2, ncol = 3)\n",
    "\n",
    "# Create matrix2\n",
    "matrix2 <- matrix(c(1,2,3,7,8,9,12,13,14,19,20,21), nrow = 3, ncol = 4)\n",
    "\n",
    "# Create matrices\n",
    "matrix1\n",
    "matrix2\n",
    "\n",
    "# Multiplying matrices\n",
    "print(matrix1 %*% matrix2)"
   ]
  },
  {
   "cell_type": "code",
   "execution_count": 95,
   "metadata": {
    "scrolled": true
   },
   "outputs": [],
   "source": [
    "#Q2\n",
    "# Import the data\n",
    "df <- read.csv(file = 'C:/Users/chane/Desktop/GW/Subjects/Fall 2021/STAT 1129/Projects/amazon-orders.csv',stringsAsFactors = FALSE)"
   ]
  },
  {
   "cell_type": "code",
   "execution_count": 96,
   "metadata": {
    "scrolled": true
   },
   "outputs": [
    {
     "data": {
      "text/html": [
       "<table>\n",
       "<thead><tr><th scope=col>Order.Date</th><th scope=col>Total.Charged</th></tr></thead>\n",
       "<tbody>\n",
       "\t<tr><td>08/22/19</td><td>$36.95  </td></tr>\n",
       "\t<tr><td>08/22/19</td><td>$17.83  </td></tr>\n",
       "\t<tr><td>08/22/19</td><td>$32.40  </td></tr>\n",
       "\t<tr><td>08/30/19</td><td>$44.29  </td></tr>\n",
       "\t<tr><td>09/06/19</td><td>$12.29  </td></tr>\n",
       "\t<tr><td>09/06/19</td><td>$30.18  </td></tr>\n",
       "</tbody>\n",
       "</table>\n"
      ],
      "text/latex": [
       "\\begin{tabular}{r|ll}\n",
       " Order.Date & Total.Charged\\\\\n",
       "\\hline\n",
       "\t 08/22/19 & \\$36.95\\\\\n",
       "\t 08/22/19 & \\$17.83\\\\\n",
       "\t 08/22/19 & \\$32.40\\\\\n",
       "\t 08/30/19 & \\$44.29\\\\\n",
       "\t 09/06/19 & \\$12.29\\\\\n",
       "\t 09/06/19 & \\$30.18\\\\\n",
       "\\end{tabular}\n"
      ],
      "text/markdown": [
       "\n",
       "| Order.Date | Total.Charged |\n",
       "|---|---|\n",
       "| 08/22/19 | $36.95   |\n",
       "| 08/22/19 | $17.83   |\n",
       "| 08/22/19 | $32.40   |\n",
       "| 08/30/19 | $44.29   |\n",
       "| 09/06/19 | $12.29   |\n",
       "| 09/06/19 | $30.18   |\n",
       "\n"
      ],
      "text/plain": [
       "  Order.Date Total.Charged\n",
       "1 08/22/19   $36.95       \n",
       "2 08/22/19   $17.83       \n",
       "3 08/22/19   $32.40       \n",
       "4 08/30/19   $44.29       \n",
       "5 09/06/19   $12.29       \n",
       "6 09/06/19   $30.18       "
      ]
     },
     "metadata": {},
     "output_type": "display_data"
    }
   ],
   "source": [
    "mydata = subset(df,select = c(\"Order.Date\",\"Total.Charged\"))\n",
    "head(mydata)"
   ]
  },
  {
   "cell_type": "code",
   "execution_count": 97,
   "metadata": {
    "scrolled": true
   },
   "outputs": [
    {
     "data": {
      "text/html": [
       "<table>\n",
       "<thead><tr><th scope=col>Order.Date</th><th scope=col>Total.Charged</th></tr></thead>\n",
       "<tbody>\n",
       "\t<tr><td>08/22/19</td><td>36.95   </td></tr>\n",
       "\t<tr><td>08/22/19</td><td>17.83   </td></tr>\n",
       "\t<tr><td>08/22/19</td><td>32.40   </td></tr>\n",
       "\t<tr><td>08/30/19</td><td>44.29   </td></tr>\n",
       "\t<tr><td>09/06/19</td><td>12.29   </td></tr>\n",
       "\t<tr><td>09/06/19</td><td>30.18   </td></tr>\n",
       "</tbody>\n",
       "</table>\n"
      ],
      "text/latex": [
       "\\begin{tabular}{r|ll}\n",
       " Order.Date & Total.Charged\\\\\n",
       "\\hline\n",
       "\t 08/22/19 & 36.95   \\\\\n",
       "\t 08/22/19 & 17.83   \\\\\n",
       "\t 08/22/19 & 32.40   \\\\\n",
       "\t 08/30/19 & 44.29   \\\\\n",
       "\t 09/06/19 & 12.29   \\\\\n",
       "\t 09/06/19 & 30.18   \\\\\n",
       "\\end{tabular}\n"
      ],
      "text/markdown": [
       "\n",
       "| Order.Date | Total.Charged |\n",
       "|---|---|\n",
       "| 08/22/19 | 36.95    |\n",
       "| 08/22/19 | 17.83    |\n",
       "| 08/22/19 | 32.40    |\n",
       "| 08/30/19 | 44.29    |\n",
       "| 09/06/19 | 12.29    |\n",
       "| 09/06/19 | 30.18    |\n",
       "\n"
      ],
      "text/plain": [
       "  Order.Date Total.Charged\n",
       "1 08/22/19   36.95        \n",
       "2 08/22/19   17.83        \n",
       "3 08/22/19   32.40        \n",
       "4 08/30/19   44.29        \n",
       "5 09/06/19   12.29        \n",
       "6 09/06/19   30.18        "
      ]
     },
     "metadata": {},
     "output_type": "display_data"
    }
   ],
   "source": [
    "#remove dollar signs\n",
    "mydata$Total.Charged = as.numeric(gsub(\"\\\\$\", \"\", mydata$Total.Charged))\n",
    "head(mydata)"
   ]
  },
  {
   "cell_type": "code",
   "execution_count": 98,
   "metadata": {
    "scrolled": true
   },
   "outputs": [
    {
     "data": {
      "text/plain": [
       "  Order.Date        Total.Charged   \n",
       " Length:99          Min.   :  0.00  \n",
       " Class :character   1st Qu.: 14.00  \n",
       " Mode  :character   Median : 24.02  \n",
       "                    Mean   : 31.42  \n",
       "                    3rd Qu.: 39.94  \n",
       "                    Max.   :136.74  "
      ]
     },
     "metadata": {},
     "output_type": "display_data"
    }
   ],
   "source": [
    "summary(mydata)"
   ]
  },
  {
   "cell_type": "raw",
   "metadata": {},
   "source": [
    "install.packages(\"lubridate\")                      \n",
    "library(\"lubridate\")"
   ]
  },
  {
   "cell_type": "code",
   "execution_count": null,
   "metadata": {
    "scrolled": false
   },
   "outputs": [],
   "source": [
    "install.packages(\"dplyr\")                           # Install dplyr package\n",
    "library(\"dplyr\")                                    # Load dplyr"
   ]
  },
  {
   "cell_type": "code",
   "execution_count": 99,
   "metadata": {
    "scrolled": true
   },
   "outputs": [
    {
     "data": {
      "text/html": [
       "<table>\n",
       "<thead><tr><th scope=col>Order.Date</th><th scope=col>Total.Charged</th><th scope=col>Date</th></tr></thead>\n",
       "<tbody>\n",
       "\t<tr><td>08/22/19  </td><td>36.95     </td><td>2019-08-22</td></tr>\n",
       "\t<tr><td>08/22/19  </td><td>17.83     </td><td>2019-08-22</td></tr>\n",
       "\t<tr><td>08/22/19  </td><td>32.40     </td><td>2019-08-22</td></tr>\n",
       "\t<tr><td>08/30/19  </td><td>44.29     </td><td>2019-08-30</td></tr>\n",
       "\t<tr><td>09/06/19  </td><td>12.29     </td><td>2019-09-06</td></tr>\n",
       "\t<tr><td>09/06/19  </td><td>30.18     </td><td>2019-09-06</td></tr>\n",
       "</tbody>\n",
       "</table>\n"
      ],
      "text/latex": [
       "\\begin{tabular}{r|lll}\n",
       " Order.Date & Total.Charged & Date\\\\\n",
       "\\hline\n",
       "\t 08/22/19   & 36.95      & 2019-08-22\\\\\n",
       "\t 08/22/19   & 17.83      & 2019-08-22\\\\\n",
       "\t 08/22/19   & 32.40      & 2019-08-22\\\\\n",
       "\t 08/30/19   & 44.29      & 2019-08-30\\\\\n",
       "\t 09/06/19   & 12.29      & 2019-09-06\\\\\n",
       "\t 09/06/19   & 30.18      & 2019-09-06\\\\\n",
       "\\end{tabular}\n"
      ],
      "text/markdown": [
       "\n",
       "| Order.Date | Total.Charged | Date |\n",
       "|---|---|---|\n",
       "| 08/22/19   | 36.95      | 2019-08-22 |\n",
       "| 08/22/19   | 17.83      | 2019-08-22 |\n",
       "| 08/22/19   | 32.40      | 2019-08-22 |\n",
       "| 08/30/19   | 44.29      | 2019-08-30 |\n",
       "| 09/06/19   | 12.29      | 2019-09-06 |\n",
       "| 09/06/19   | 30.18      | 2019-09-06 |\n",
       "\n"
      ],
      "text/plain": [
       "  Order.Date Total.Charged Date      \n",
       "1 08/22/19   36.95         2019-08-22\n",
       "2 08/22/19   17.83         2019-08-22\n",
       "3 08/22/19   32.40         2019-08-22\n",
       "4 08/30/19   44.29         2019-08-30\n",
       "5 09/06/19   12.29         2019-09-06\n",
       "6 09/06/19   30.18         2019-09-06"
      ]
     },
     "metadata": {},
     "output_type": "display_data"
    }
   ],
   "source": [
    "# Create a new data.frame with the newly formatted date field\n",
    "mydata <- mydata %>%\n",
    "  mutate(Date = as.Date(Order.Date, format = \"%m/%d/%y\"))\n",
    "\n",
    "head(mydata)"
   ]
  },
  {
   "cell_type": "code",
   "execution_count": 100,
   "metadata": {},
   "outputs": [
    {
     "data": {
      "text/html": [
       "<table>\n",
       "<thead><tr><th scope=col>Order.Date</th><th scope=col>Total.Charged</th><th scope=col>Date</th><th scope=col>month</th><th scope=col>year</th></tr></thead>\n",
       "<tbody>\n",
       "\t<tr><td>08/22/19  </td><td>36.95     </td><td>2019-08-22</td><td>8         </td><td>2019      </td></tr>\n",
       "\t<tr><td>08/22/19  </td><td>17.83     </td><td>2019-08-22</td><td>8         </td><td>2019      </td></tr>\n",
       "\t<tr><td>08/22/19  </td><td>32.40     </td><td>2019-08-22</td><td>8         </td><td>2019      </td></tr>\n",
       "\t<tr><td>08/30/19  </td><td>44.29     </td><td>2019-08-30</td><td>8         </td><td>2019      </td></tr>\n",
       "\t<tr><td>09/06/19  </td><td>12.29     </td><td>2019-09-06</td><td>9         </td><td>2019      </td></tr>\n",
       "\t<tr><td>09/06/19  </td><td>30.18     </td><td>2019-09-06</td><td>9         </td><td>2019      </td></tr>\n",
       "</tbody>\n",
       "</table>\n"
      ],
      "text/latex": [
       "\\begin{tabular}{r|lllll}\n",
       " Order.Date & Total.Charged & Date & month & year\\\\\n",
       "\\hline\n",
       "\t 08/22/19   & 36.95      & 2019-08-22 & 8          & 2019      \\\\\n",
       "\t 08/22/19   & 17.83      & 2019-08-22 & 8          & 2019      \\\\\n",
       "\t 08/22/19   & 32.40      & 2019-08-22 & 8          & 2019      \\\\\n",
       "\t 08/30/19   & 44.29      & 2019-08-30 & 8          & 2019      \\\\\n",
       "\t 09/06/19   & 12.29      & 2019-09-06 & 9          & 2019      \\\\\n",
       "\t 09/06/19   & 30.18      & 2019-09-06 & 9          & 2019      \\\\\n",
       "\\end{tabular}\n"
      ],
      "text/markdown": [
       "\n",
       "| Order.Date | Total.Charged | Date | month | year |\n",
       "|---|---|---|---|---|\n",
       "| 08/22/19   | 36.95      | 2019-08-22 | 8          | 2019       |\n",
       "| 08/22/19   | 17.83      | 2019-08-22 | 8          | 2019       |\n",
       "| 08/22/19   | 32.40      | 2019-08-22 | 8          | 2019       |\n",
       "| 08/30/19   | 44.29      | 2019-08-30 | 8          | 2019       |\n",
       "| 09/06/19   | 12.29      | 2019-09-06 | 9          | 2019       |\n",
       "| 09/06/19   | 30.18      | 2019-09-06 | 9          | 2019       |\n",
       "\n"
      ],
      "text/plain": [
       "  Order.Date Total.Charged Date       month year\n",
       "1 08/22/19   36.95         2019-08-22 8     2019\n",
       "2 08/22/19   17.83         2019-08-22 8     2019\n",
       "3 08/22/19   32.40         2019-08-22 8     2019\n",
       "4 08/30/19   44.29         2019-08-30 8     2019\n",
       "5 09/06/19   12.29         2019-09-06 9     2019\n",
       "6 09/06/19   30.18         2019-09-06 9     2019"
      ]
     },
     "metadata": {},
     "output_type": "display_data"
    }
   ],
   "source": [
    "# add a month column to data.frame\n",
    "mydata <- mydata %>%\n",
    "  mutate(month = month(Date))\n",
    "\n",
    "# add a year column to data.frame\n",
    "mydata <- mydata %>%\n",
    "  mutate(year = year(Date))\n",
    "\n",
    "head(mydata)"
   ]
  },
  {
   "cell_type": "code",
   "execution_count": 101,
   "metadata": {
    "scrolled": false
   },
   "outputs": [
    {
     "name": "stderr",
     "output_type": "stream",
     "text": [
      "`summarise()` has grouped output by 'year'. You can override using the `.groups` argument.\n"
     ]
    },
    {
     "data": {
      "text/html": [
       "<table>\n",
       "<thead><tr><th scope=col>year</th><th scope=col>month</th><th scope=col>amount</th></tr></thead>\n",
       "<tbody>\n",
       "\t<tr><td>2019  </td><td> 8    </td><td>131.47</td></tr>\n",
       "\t<tr><td>2019  </td><td> 9    </td><td>610.16</td></tr>\n",
       "\t<tr><td>2019  </td><td>10    </td><td>306.16</td></tr>\n",
       "\t<tr><td>2019  </td><td>11    </td><td> 22.23</td></tr>\n",
       "\t<tr><td>2020  </td><td> 1    </td><td>155.25</td></tr>\n",
       "\t<tr><td>2020  </td><td> 2    </td><td> 15.89</td></tr>\n",
       "\t<tr><td>2020  </td><td> 4    </td><td>170.84</td></tr>\n",
       "\t<tr><td>2020  </td><td> 8    </td><td>492.00</td></tr>\n",
       "\t<tr><td>2020  </td><td> 9    </td><td>124.48</td></tr>\n",
       "\t<tr><td>2020  </td><td>10    </td><td>102.79</td></tr>\n",
       "\t<tr><td>2021  </td><td> 1    </td><td>110.78</td></tr>\n",
       "\t<tr><td>2021  </td><td> 3    </td><td>137.04</td></tr>\n",
       "\t<tr><td>2021  </td><td> 4    </td><td> 84.72</td></tr>\n",
       "\t<tr><td>2021  </td><td> 5    </td><td> 53.24</td></tr>\n",
       "\t<tr><td>2021  </td><td> 6    </td><td>217.68</td></tr>\n",
       "\t<tr><td>2021  </td><td> 7    </td><td>147.26</td></tr>\n",
       "\t<tr><td>2021  </td><td> 8    </td><td> 95.26</td></tr>\n",
       "\t<tr><td>2021  </td><td> 9    </td><td>129.43</td></tr>\n",
       "\t<tr><td>2021  </td><td>10    </td><td>  3.70</td></tr>\n",
       "</tbody>\n",
       "</table>\n"
      ],
      "text/latex": [
       "\\begin{tabular}{r|lll}\n",
       " year & month & amount\\\\\n",
       "\\hline\n",
       "\t 2019   &  8     & 131.47\\\\\n",
       "\t 2019   &  9     & 610.16\\\\\n",
       "\t 2019   & 10     & 306.16\\\\\n",
       "\t 2019   & 11     &  22.23\\\\\n",
       "\t 2020   &  1     & 155.25\\\\\n",
       "\t 2020   &  2     &  15.89\\\\\n",
       "\t 2020   &  4     & 170.84\\\\\n",
       "\t 2020   &  8     & 492.00\\\\\n",
       "\t 2020   &  9     & 124.48\\\\\n",
       "\t 2020   & 10     & 102.79\\\\\n",
       "\t 2021   &  1     & 110.78\\\\\n",
       "\t 2021   &  3     & 137.04\\\\\n",
       "\t 2021   &  4     &  84.72\\\\\n",
       "\t 2021   &  5     &  53.24\\\\\n",
       "\t 2021   &  6     & 217.68\\\\\n",
       "\t 2021   &  7     & 147.26\\\\\n",
       "\t 2021   &  8     &  95.26\\\\\n",
       "\t 2021   &  9     & 129.43\\\\\n",
       "\t 2021   & 10     &   3.70\\\\\n",
       "\\end{tabular}\n"
      ],
      "text/markdown": [
       "\n",
       "| year | month | amount |\n",
       "|---|---|---|\n",
       "| 2019   |  8     | 131.47 |\n",
       "| 2019   |  9     | 610.16 |\n",
       "| 2019   | 10     | 306.16 |\n",
       "| 2019   | 11     |  22.23 |\n",
       "| 2020   |  1     | 155.25 |\n",
       "| 2020   |  2     |  15.89 |\n",
       "| 2020   |  4     | 170.84 |\n",
       "| 2020   |  8     | 492.00 |\n",
       "| 2020   |  9     | 124.48 |\n",
       "| 2020   | 10     | 102.79 |\n",
       "| 2021   |  1     | 110.78 |\n",
       "| 2021   |  3     | 137.04 |\n",
       "| 2021   |  4     |  84.72 |\n",
       "| 2021   |  5     |  53.24 |\n",
       "| 2021   |  6     | 217.68 |\n",
       "| 2021   |  7     | 147.26 |\n",
       "| 2021   |  8     |  95.26 |\n",
       "| 2021   |  9     | 129.43 |\n",
       "| 2021   | 10     |   3.70 |\n",
       "\n"
      ],
      "text/plain": [
       "   year month amount\n",
       "1  2019  8    131.47\n",
       "2  2019  9    610.16\n",
       "3  2019 10    306.16\n",
       "4  2019 11     22.23\n",
       "5  2020  1    155.25\n",
       "6  2020  2     15.89\n",
       "7  2020  4    170.84\n",
       "8  2020  8    492.00\n",
       "9  2020  9    124.48\n",
       "10 2020 10    102.79\n",
       "11 2021  1    110.78\n",
       "12 2021  3    137.04\n",
       "13 2021  4     84.72\n",
       "14 2021  5     53.24\n",
       "15 2021  6    217.68\n",
       "16 2021  7    147.26\n",
       "17 2021  8     95.26\n",
       "18 2021  9    129.43\n",
       "19 2021 10      3.70"
      ]
     },
     "metadata": {},
     "output_type": "display_data"
    }
   ],
   "source": [
    "# calculate the sum amount for each month and year\n",
    "mydata_month <- mydata %>%\n",
    "  group_by(year,month) %>%\n",
    "  summarize(amount = sum(Total.Charged))\n",
    "\n",
    "mydata_month"
   ]
  },
  {
   "cell_type": "code",
   "execution_count": null,
   "metadata": {
    "scrolled": true
   },
   "outputs": [
    {
     "name": "stdout",
     "output_type": "stream",
     "text": [
      "\n",
      "  There is a binary version available but the source version is later:\n",
      "        binary source needs_compilation\n",
      "ggplot2  3.3.3  3.3.5             FALSE\n",
      "\n"
     ]
    },
    {
     "name": "stderr",
     "output_type": "stream",
     "text": [
      "installing the source package 'ggplot2'\n",
      "\n"
     ]
    }
   ],
   "source": [
    "install.packages(\"ggplot2\") "
   ]
  },
  {
   "cell_type": "code",
   "execution_count": 93,
   "metadata": {
    "scrolled": true
   },
   "outputs": [
    {
     "data": {
      "image/png": "[encoded data removed]",
      "text/plain": [
       "plot without title"
      ]
     },
     "metadata": {},
     "output_type": "display_data"
    }
   ],
   "source": [
    "# Load ggplot2\n",
    "library(ggplot2)\n",
    "\n",
    "# plot\n",
    "mydata_month %>%\n",
    "  ggplot(aes(x = month, y = amount)) +\n",
    "      geom_bar(stat = \"identity\", fill = \"darkorchid4\") +\n",
    "  facet_wrap(~ year, ncol = 3) +\n",
    "      labs(title = \"Monthly Payment\",\n",
    "           y = \"Amount\",\n",
    "           x = \"Timeline\") + theme_bw(base_size = 15)\n"
   ]
  }
 ],
 "metadata": {
  "kernelspec": {
   "display_name": "R",
   "language": "R",
   "name": "ir"
  },
  "language_info": {
   "codemirror_mode": "r",
   "file_extension": ".r",
   "mimetype": "text/x-r-source",
   "name": "R",
   "pygments_lexer": "r",
   "version": "3.6.1"
  }
 },
 "nbformat": 4,
 "nbformat_minor": 4
}
